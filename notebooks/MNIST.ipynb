{
  "nbformat": 4,
  "nbformat_minor": 0,
  "metadata": {
    "colab": {
      "name": "MNIST",
      "provenance": [],
      "collapsed_sections": [],
      "include_colab_link": true
    },
    "kernelspec": {
      "name": "python3",
      "display_name": "Python 3"
    },
    "language_info": {
      "name": "python"
    }
  },
  "cells": [
    {
      "cell_type": "markdown",
      "metadata": {
        "id": "view-in-github",
        "colab_type": "text"
      },
      "source": [
        "<a href=\"https://colab.research.google.com/github/gecco-evojax/evojax/blob/main/notebooks/MNIST.ipynb\" target=\"_parent\"><img src=\"https://colab.research.google.com/assets/colab-badge.svg\" alt=\"Open In Colab\"/></a>"
      ]
    },
    {
      "cell_type": "code",
      "execution_count": 1,
      "metadata": {
        "colab": {
          "base_uri": "https://localhost:8080/"
        },
        "id": "3iRQzS8-LDSm",
        "outputId": "da64802d-5d1d-40d6-e0b2-68d2f8a9c21b"
      },
      "outputs": [
        {
          "output_type": "stream",
          "name": "stdout",
          "text": [
            "Thu Jan  6 11:12:24 2022       \r\n",
            "+-----------------------------------------------------------------------------+\r\n",
            "| NVIDIA-SMI 495.46       Driver Version: 495.46       CUDA Version: 11.5     |\r\n",
            "|-------------------------------+----------------------+----------------------+\r\n",
            "| GPU  Name        Persistence-M| Bus-Id        Disp.A | Volatile Uncorr. ECC |\r\n",
            "| Fan  Temp  Perf  Pwr:Usage/Cap|         Memory-Usage | GPU-Util  Compute M. |\r\n",
            "|                               |                      |               MIG M. |\r\n",
            "|===============================+======================+======================|\r\n",
            "|   0  Tesla V100-SXM2...  Off  | 00000000:00:04.0 Off |                    0 |\r\n",
            "| N/A   34C    P0    38W / 300W |      0MiB / 16160MiB |      1%      Default |\r\n",
            "|                               |                      |                  N/A |\r\n",
            "+-------------------------------+----------------------+----------------------+\r\n",
            "                                                                               \r\n",
            "+-----------------------------------------------------------------------------+\r\n",
            "| Processes:                                                                  |\r\n",
            "|  GPU   GI   CI        PID   Type   Process name                  GPU Memory |\r\n",
            "|        ID   ID                                                   Usage      |\r\n",
            "|=============================================================================|\r\n",
            "|  No running processes found                                                 |\r\n",
            "+-----------------------------------------------------------------------------+\r\n"
          ]
        }
      ],
      "source": [
        "!nvidia-smi"
      ]
    },
    {
      "cell_type": "code",
      "source": [
        "# @title Install Packages\n",
        "\n",
        "from IPython.display import clear_output\n",
        "\n",
        "!pip install --upgrade pip\n",
        "!pip install --upgrade \"jaxlib[cuda]\" -f https://storage.googleapis.com/jax-releases/jax_releases.html\n",
        "!pip install torchvision\n",
        "!pip install git+https://github.com/gecco-evojax/evojax.git@main\n",
        "\n",
        "clear_output()"
      ],
      "metadata": {
        "id": "uh8a9O_DMAvf"
      },
      "execution_count": 2,
      "outputs": []
    },
    {
      "cell_type": "code",
      "source": [
        "# @title Import Libraries\n",
        "\n",
        "import time\n",
        "import numpy as np\n",
        "import matplotlib.pyplot as plt\n",
        "from IPython.display import Image\n",
        "\n",
        "import jax\n",
        "import jax.numpy as jnp\n",
        "from jax import random\n",
        "\n",
        "from evojax import SimManager\n",
        "from evojax import Trainer\n",
        "from evojax.algo import PGPE\n",
        "from evojax.policy import ConvnetPolicy\n",
        "from evojax.task.mnist import MNIST"
      ],
      "metadata": {
        "id": "6YbYyaMWFBQd"
      },
      "execution_count": 3,
      "outputs": []
    },
    {
      "cell_type": "code",
      "source": [
        "# @title Confirm JAX Backend\n",
        "\n",
        "print('jax backend: {}'.format(jax.devices()))\n",
        "print('You need to restart the runtime if the output above is not GPU')"
      ],
      "metadata": {
        "colab": {
          "base_uri": "https://localhost:8080/"
        },
        "id": "xBMaGnOCMkXt",
        "outputId": "9ae43776-20c4-47ce-bb0b-1185e6a8ccd7"
      },
      "execution_count": 4,
      "outputs": [
        {
          "output_type": "stream",
          "name": "stdout",
          "text": [
            "jax backend: [GpuDevice(id=0, process_index=0)]\n",
            "You need to restart the runtime if the output above is not GPU\n"
          ]
        }
      ]
    },
    {
      "cell_type": "markdown",
      "source": [
        "# Learning MNIST Classification\n",
        "\n",
        "In training the scores are cross-entropy losses, and in tests the scores are accuracies."
      ],
      "metadata": {
        "id": "UwXkT2EEO9HZ"
      }
    },
    {
      "cell_type": "code",
      "source": [
        "# @title Set hyper-paramters\n",
        "pop_size = 64  # @param\n",
        "center_lr = 0.006  # @param\n",
        "stdev_lr = 0.089  # @param\n",
        "init_stdev = 0.039  #@param\n",
        "seed = 0  # @param\n",
        "batch_size = 1024 # @param\n",
        "time_limit = 300  # @param\n",
        "test_interval = 500 # @param"
      ],
      "metadata": {
        "id": "Nxa2g5WSO41u"
      },
      "execution_count": 5,
      "outputs": []
    },
    {
      "cell_type": "code",
      "source": [
        "# @title Training\n",
        "\n",
        "policy = ConvnetPolicy()\n",
        "print('#params={}'.format(policy.num_params))\n",
        "\n",
        "train_task = MNIST(batch_size=batch_size, test=False)\n",
        "test_task = MNIST(batch_size=batch_size, test=True)\n",
        "\n",
        "sim_mgr = SimManager(\n",
        "    n_repeats=1,\n",
        "    test_n_repeats=1,\n",
        "    pop_size=pop_size,\n",
        "    n_evaluations=1,\n",
        "    policy_net=policy,\n",
        "    train_vec_task=train_task,\n",
        "    valid_vec_task=test_task,\n",
        "    seed=seed,\n",
        ")\n",
        "solver = PGPE(\n",
        "    pop_size=pop_size,\n",
        "    param_size=policy.num_params,\n",
        "    optimizer='adam',\n",
        "    center_learning_rate=center_lr,\n",
        "    stdev_learning_rate=stdev_lr,\n",
        "    init_stdev=init_stdev,\n",
        "    seed=seed,\n",
        ")\n",
        "\n",
        "\n",
        "print('Start training MNIST for {} seconds'.format(time_limit))\n",
        "    \n",
        "start_time = time.perf_counter()\n",
        "train_iters = 0\n",
        "test_time_cost = 0\n",
        "while time.perf_counter() - start_time - test_time_cost < time_limit:\n",
        "  \n",
        "  # Training.\n",
        "  params = solver.ask()\n",
        "  scores = sim_mgr.eval_params(params=params, test=False)\n",
        "  solver.tell(fitness=scores)\n",
        "  train_iters += 1\n",
        "\n",
        "  # Test periodically.\n",
        "  if train_iters > 0 and train_iters % test_interval == 0:\n",
        "    test_start_time = time.perf_counter()\n",
        "    best_params = solver.best_params\n",
        "    scores = np.array(sim_mgr.eval_params(params=best_params, test=True))\n",
        "    score_avg = np.mean(scores)\n",
        "    score_std = np.std(scores)\n",
        "    print('Iter={0}, score.avg={1:.4f}, score.std={2:.4f}'.format(\n",
        "        train_iters, score_avg, score_std))\n",
        "    test_time_cost += time.perf_counter() - test_start_time\n",
        "\n",
        "# Final test.\n",
        "best_params = solver.best_params\n",
        "scores = np.array(sim_mgr.eval_params(params=best_params, test=True))\n",
        "score_avg = np.mean(scores)\n",
        "score_std = np.std(scores)\n",
        "print('Iter={0}, score.avg={1:.4f}, score.std={2:.4f}'.format(\n",
        "    train_iters, score_avg, score_std))"
      ],
      "metadata": {
        "colab": {
          "base_uri": "https://localhost:8080/"
        },
        "id": "epNOO17OPf39",
        "outputId": "66a9327c-62b4-41d3-8b08-f98a31fe2d06"
      },
      "execution_count": 6,
      "outputs": [
        {
          "output_type": "stream",
          "name": "stderr",
          "text": [
            "0.6%"
          ]
        },
        {
          "output_type": "stream",
          "name": "stdout",
          "text": [
            "#params=11274\n",
            "Downloading http://yann.lecun.com/exdb/mnist/train-images-idx3-ubyte.gz\n",
            "Downloading http://yann.lecun.com/exdb/mnist/train-images-idx3-ubyte.gz to ./data/MNIST/raw/train-images-idx3-ubyte.gz\n"
          ]
        },
        {
          "output_type": "stream",
          "name": "stderr",
          "text": [
            "100.0%\n"
          ]
        },
        {
          "output_type": "stream",
          "name": "stdout",
          "text": [
            "Extracting ./data/MNIST/raw/train-images-idx3-ubyte.gz to ./data/MNIST/raw\n"
          ]
        },
        {
          "output_type": "stream",
          "name": "stderr",
          "text": [
            "102.8%\n",
            "0.6%"
          ]
        },
        {
          "output_type": "stream",
          "name": "stdout",
          "text": [
            "\n",
            "Downloading http://yann.lecun.com/exdb/mnist/train-labels-idx1-ubyte.gz\n",
            "Downloading http://yann.lecun.com/exdb/mnist/train-labels-idx1-ubyte.gz to ./data/MNIST/raw/train-labels-idx1-ubyte.gz\n",
            "Extracting ./data/MNIST/raw/train-labels-idx1-ubyte.gz to ./data/MNIST/raw\n",
            "\n",
            "Downloading http://yann.lecun.com/exdb/mnist/t10k-images-idx3-ubyte.gz\n",
            "Downloading http://yann.lecun.com/exdb/mnist/t10k-images-idx3-ubyte.gz to ./data/MNIST/raw/t10k-images-idx3-ubyte.gz\n"
          ]
        },
        {
          "output_type": "stream",
          "name": "stderr",
          "text": [
            "100.0%\n"
          ]
        },
        {
          "output_type": "stream",
          "name": "stdout",
          "text": [
            "Extracting ./data/MNIST/raw/t10k-images-idx3-ubyte.gz to ./data/MNIST/raw\n"
          ]
        },
        {
          "output_type": "stream",
          "name": "stderr",
          "text": [
            "112.7%"
          ]
        },
        {
          "output_type": "stream",
          "name": "stdout",
          "text": [
            "\n",
            "Downloading http://yann.lecun.com/exdb/mnist/t10k-labels-idx1-ubyte.gz\n",
            "Downloading http://yann.lecun.com/exdb/mnist/t10k-labels-idx1-ubyte.gz to ./data/MNIST/raw/t10k-labels-idx1-ubyte.gz\n",
            "Extracting ./data/MNIST/raw/t10k-labels-idx1-ubyte.gz to ./data/MNIST/raw\n",
            "\n"
          ]
        },
        {
          "output_type": "stream",
          "name": "stderr",
          "text": [
            "\n"
          ]
        },
        {
          "output_type": "stream",
          "name": "stdout",
          "text": [
            "Start training MNIST for 300 seconds\n",
            "Iter=500, score.avg=0.9362, score.std=0.0000\n",
            "Iter=1000, score.avg=0.9595, score.std=0.0000\n",
            "Iter=1500, score.avg=0.9658, score.std=0.0000\n",
            "Iter=2000, score.avg=0.9732, score.std=0.0000\n",
            "Iter=2500, score.avg=0.9758, score.std=0.0000\n",
            "Iter=3000, score.avg=0.9775, score.std=0.0000\n",
            "Iter=3500, score.avg=0.9795, score.std=0.0000\n",
            "Iter=4000, score.avg=0.9793, score.std=0.0000\n",
            "Iter=4500, score.avg=0.9795, score.std=0.0000\n",
            "Iter=5000, score.avg=0.9807, score.std=0.0000\n",
            "Iter=5500, score.avg=0.9810, score.std=0.0000\n",
            "Iter=6000, score.avg=0.9824, score.std=0.0000\n",
            "Iter=6500, score.avg=0.9829, score.std=0.0000\n",
            "Iter=7000, score.avg=0.9842, score.std=0.0000\n",
            "Iter=7194, score.avg=0.9843, score.std=0.0000\n"
          ]
        }
      ]
    },
    {
      "cell_type": "code",
      "source": [
        "# @title Visualization\n",
        "\n",
        "reset_fn = jax.jit(test_task.reset)\n",
        "action_fn = jax.jit(policy.get_actions)\n",
        "\n",
        "best_params = solver.best_params[None, :]\n",
        "\n",
        "key = random.PRNGKey(0)\n",
        "s = reset_fn(key[None, :])\n",
        "predictions = action_fn(s.obs, best_params)\n",
        "predicted_classes = jnp.argmax(predictions, axis=-1)\n",
        "\n",
        "num_images = 32\n",
        "print('ground truth: {}'.format(s.labels.ravel()[:num_images]))\n",
        "print('predictions: {}'.format(predicted_classes.ravel()[:num_images]))\n",
        "\n",
        "imgs = np.array(s.obs[0, :num_images] * 255).astype(np.uint8).squeeze()\n",
        "imgs = imgs.transpose([1, 0, 2]).reshape((28, -1))\n",
        "\n",
        "fig, ax = plt.subplots(1, 1, figsize=(4 * num_images, 4))\n",
        "ax.imshow(imgs)\n",
        "ax.set_axis_off()"
      ],
      "metadata": {
        "id": "_omZplvePp-w",
        "colab": {
          "base_uri": "https://localhost:8080/",
          "height": 132
        },
        "outputId": "bdafaeff-c9bf-475a-b831-18c7c8ac52c2"
      },
      "execution_count": 7,
      "outputs": [
        {
          "output_type": "stream",
          "name": "stdout",
          "text": [
            "ground truth: [7 2 1 0 4 1 4 9 5 9 0 6 9 0 1 5 9 7 3 4 9 6 6 5 4 0 7 4 0 1 3 1]\n",
            "predictions: [7 2 1 0 4 1 4 9 5 9 0 6 9 0 1 5 9 7 3 4 9 6 6 5 4 0 7 4 0 1 3 1]\n"
          ]
        },
        {
          "output_type": "display_data",
          "data": {
            "text/plain": [
              "<Figure size 9216x288 with 1 Axes>"
            ],
            "image/png": "[encoded data removed]"
          },
          "metadata": {
            "needs_background": "light"
          }
        }
      ]
    },
    {
      "cell_type": "code",
      "source": [
        ""
      ],
      "metadata": {
        "id": "SCMvotXmdGA5"
      },
      "execution_count": null,
      "outputs": []
    }
  ]
}